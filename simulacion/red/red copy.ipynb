{
 "cells": [
  {
   "cell_type": "code",
   "execution_count": 5,
   "id": "c1b902c8",
   "metadata": {},
   "outputs": [],
   "source": [
    "# -*- coding: utf-8 -*-\n",
    "\"\"\"\n",
    "red_mercado.py\n",
    "\n",
    "Esta red neuronal predice dos eventos en un mercado simulado:\n",
    "1. subida_brusca_precio  (subida abrupta de precios)\n",
    "2. escasez\n",
    "\n",
    "Se ha mejorado la legibilidad de las predicciones y se añaden métricas de desempeño.\n",
    "\"\"\"\n",
    "\n",
    "import pandas as pd\n",
    "import numpy as np\n",
    "from sklearn.model_selection import train_test_split\n",
    "from sklearn.metrics import (\n",
    "    confusion_matrix,\n",
    "    classification_report,\n",
    "    roc_auc_score,\n",
    "    accuracy_score,\n",
    "    precision_score,\n",
    "    recall_score\n",
    ")\n",
    "from keras import Sequential, Input\n",
    "from keras.layers import Dense, Dropout, Normalization\n",
    "from keras.metrics import Recall\n",
    "\n",
    "\n",
    "\n"
   ]
  },
  {
   "cell_type": "code",
   "execution_count": null,
   "id": "989d70c3",
   "metadata": {},
   "outputs": [],
   "source": [
    "# 1. Carga de datos\n",
    "# ----------------\n",
    "datos = pd.read_csv(\"simulacionEconomica.csv\")\n"
   ]
  },
  {
   "cell_type": "code",
   "execution_count": 6,
   "id": "c6cdf20e",
   "metadata": {},
   "outputs": [],
   "source": [
    "# 2. Separar atributos y objetivo\n",
    "# --------------------------------\n",
    "atributos = datos.loc[:, 'demanda_preajuste':'volatilidad_precio']\n",
    "objetivo = datos.loc[:, 'subida_brusca_precio':'escasez']\n",
    "\n"
   ]
  },
  {
   "cell_type": "code",
   "execution_count": 7,
   "id": "8e9c9794",
   "metadata": {},
   "outputs": [],
   "source": [
    "# 3. Dividir en entrenamiento y prueba\n",
    "# ------------------------------------\n",
    "X_train, X_test, y_train, y_test = train_test_split(\n",
    "    atributos, objetivo,\n",
    "    test_size=0.2,\n",
    "    random_state=42\n",
    ")\n",
    "\n"
   ]
  },
  {
   "cell_type": "code",
   "execution_count": null,
   "id": "c4473636",
   "metadata": {},
   "outputs": [],
   "source": [
    "# 4. Normalización\n",
    "# ----------------\n",
    "normalizador = Normalization()\n",
    "normalizador.adapt(X_train.to_numpy())\n",
    "np.mean(normalizador(X_train), axis=0)\n",
    "np.mean(normalizador(X_train), axis=0)"
   ]
  },
  {
   "cell_type": "code",
   "execution_count": 9,
   "id": "30097cc4",
   "metadata": {},
   "outputs": [],
   "source": [
    "# 5. Definición de la red\n",
    "# -----------------------\n",
    "red_mercado = Sequential([\n",
    "    Input(shape=(5,)),         # 5 variables de entrada\n",
    "    normalizador,              # normaliza cada batch\n",
    "    Dense(64, activation='relu'),  # capa oculta amplia\n",
    "    Dropout(0.2),                  # evita sobreajuste\n",
    "    Dense(32, activation='relu'),  # capa oculta más pequeña\n",
    "    Dense(2, activation='sigmoid') # 2 salidas binarias\n",
    "])\n",
    "\n"
   ]
  },
  {
   "cell_type": "code",
   "execution_count": 10,
   "id": "c5373d48",
   "metadata": {},
   "outputs": [],
   "source": [
    "# 6. Compilación\n",
    "# --------------\n",
    "red_mercado.compile(\n",
    "    optimizer='SGD',\n",
    "    loss='binary_crossentropy',\n",
    "    metrics=['binary_accuracy', Recall()]\n",
    ")\n",
    "\n"
   ]
  },
  {
   "cell_type": "code",
   "execution_count": 11,
   "id": "6560d4e2",
   "metadata": {},
   "outputs": [
    {
     "name": "stdout",
     "output_type": "stream",
     "text": [
      "Epoch 1/20\n",
      "\u001b[1m175/175\u001b[0m \u001b[32m━━━━━━━━━━━━━━━━━━━━\u001b[0m\u001b[37m\u001b[0m \u001b[1m1s\u001b[0m 4ms/step - binary_accuracy: 0.5155 - loss: 0.6907 - recall_2: 0.6122 - val_binary_accuracy: 0.8156 - val_loss: 0.5777 - val_recall_2: 0.4077\n",
      "Epoch 2/20\n",
      "\u001b[1m175/175\u001b[0m \u001b[32m━━━━━━━━━━━━━━━━━━━━\u001b[0m\u001b[37m\u001b[0m \u001b[1m1s\u001b[0m 3ms/step - binary_accuracy: 0.8082 - loss: 0.5548 - recall_2: 0.3855 - val_binary_accuracy: 0.8223 - val_loss: 0.4806 - val_recall_2: 0.4216\n",
      "Epoch 3/20\n",
      "\u001b[1m175/175\u001b[0m \u001b[32m━━━━━━━━━━━━━━━━━━━━\u001b[0m\u001b[37m\u001b[0m \u001b[1m0s\u001b[0m 3ms/step - binary_accuracy: 0.8312 - loss: 0.4625 - recall_2: 0.4276 - val_binary_accuracy: 0.8464 - val_loss: 0.4072 - val_recall_2: 0.5144\n",
      "Epoch 4/20\n",
      "\u001b[1m175/175\u001b[0m \u001b[32m━━━━━━━━━━━━━━━━━━━━\u001b[0m\u001b[37m\u001b[0m \u001b[1m0s\u001b[0m 3ms/step - binary_accuracy: 0.8485 - loss: 0.3962 - recall_2: 0.5168 - val_binary_accuracy: 0.8689 - val_loss: 0.3566 - val_recall_2: 0.6084\n",
      "Epoch 5/20\n",
      "\u001b[1m175/175\u001b[0m \u001b[32m━━━━━━━━━━━━━━━━━━━━\u001b[0m\u001b[37m\u001b[0m \u001b[1m0s\u001b[0m 3ms/step - binary_accuracy: 0.8639 - loss: 0.3515 - recall_2: 0.5829 - val_binary_accuracy: 0.8740 - val_loss: 0.3245 - val_recall_2: 0.6477\n",
      "Epoch 6/20\n",
      "\u001b[1m175/175\u001b[0m \u001b[32m━━━━━━━━━━━━━━━━━━━━\u001b[0m\u001b[37m\u001b[0m \u001b[1m0s\u001b[0m 3ms/step - binary_accuracy: 0.8725 - loss: 0.3230 - recall_2: 0.6344 - val_binary_accuracy: 0.8742 - val_loss: 0.3047 - val_recall_2: 0.6672\n",
      "Epoch 7/20\n",
      "\u001b[1m175/175\u001b[0m \u001b[32m━━━━━━━━━━━━━━━━━━━━\u001b[0m\u001b[37m\u001b[0m \u001b[1m0s\u001b[0m 3ms/step - binary_accuracy: 0.8733 - loss: 0.3050 - recall_2: 0.6501 - val_binary_accuracy: 0.8755 - val_loss: 0.2919 - val_recall_2: 0.6857\n",
      "Epoch 8/20\n",
      "\u001b[1m175/175\u001b[0m \u001b[32m━━━━━━━━━━━━━━━━━━━━\u001b[0m\u001b[37m\u001b[0m \u001b[1m1s\u001b[0m 3ms/step - binary_accuracy: 0.8768 - loss: 0.2933 - recall_2: 0.6765 - val_binary_accuracy: 0.8746 - val_loss: 0.2831 - val_recall_2: 0.6941\n",
      "Epoch 9/20\n",
      "\u001b[1m175/175\u001b[0m \u001b[32m━━━━━━━━━━━━━━━━━━━━\u001b[0m\u001b[37m\u001b[0m \u001b[1m1s\u001b[0m 3ms/step - binary_accuracy: 0.8759 - loss: 0.2834 - recall_2: 0.6794 - val_binary_accuracy: 0.8748 - val_loss: 0.2767 - val_recall_2: 0.7021\n",
      "Epoch 10/20\n",
      "\u001b[1m175/175\u001b[0m \u001b[32m━━━━━━━━━━━━━━━━━━━━\u001b[0m\u001b[37m\u001b[0m \u001b[1m0s\u001b[0m 3ms/step - binary_accuracy: 0.8744 - loss: 0.2810 - recall_2: 0.6873 - val_binary_accuracy: 0.8753 - val_loss: 0.2717 - val_recall_2: 0.7071\n",
      "Epoch 11/20\n",
      "\u001b[1m175/175\u001b[0m \u001b[32m━━━━━━━━━━━━━━━━━━━━\u001b[0m\u001b[37m\u001b[0m \u001b[1m1s\u001b[0m 3ms/step - binary_accuracy: 0.8749 - loss: 0.2766 - recall_2: 0.6846 - val_binary_accuracy: 0.8757 - val_loss: 0.2676 - val_recall_2: 0.7108\n",
      "Epoch 12/20\n",
      "\u001b[1m175/175\u001b[0m \u001b[32m━━━━━━━━━━━━━━━━━━━━\u001b[0m\u001b[37m\u001b[0m \u001b[1m1s\u001b[0m 3ms/step - binary_accuracy: 0.8764 - loss: 0.2711 - recall_2: 0.6922 - val_binary_accuracy: 0.8763 - val_loss: 0.2642 - val_recall_2: 0.7142\n",
      "Epoch 13/20\n",
      "\u001b[1m175/175\u001b[0m \u001b[32m━━━━━━━━━━━━━━━━━━━━\u001b[0m\u001b[37m\u001b[0m \u001b[1m1s\u001b[0m 3ms/step - binary_accuracy: 0.8764 - loss: 0.2699 - recall_2: 0.6943 - val_binary_accuracy: 0.8771 - val_loss: 0.2612 - val_recall_2: 0.7191\n",
      "Epoch 14/20\n",
      "\u001b[1m175/175\u001b[0m \u001b[32m━━━━━━━━━━━━━━━━━━━━\u001b[0m\u001b[37m\u001b[0m \u001b[1m1s\u001b[0m 3ms/step - binary_accuracy: 0.8774 - loss: 0.2645 - recall_2: 0.7027 - val_binary_accuracy: 0.8773 - val_loss: 0.2584 - val_recall_2: 0.7198\n",
      "Epoch 15/20\n",
      "\u001b[1m175/175\u001b[0m \u001b[32m━━━━━━━━━━━━━━━━━━━━\u001b[0m\u001b[37m\u001b[0m \u001b[1m1s\u001b[0m 3ms/step - binary_accuracy: 0.8790 - loss: 0.2588 - recall_2: 0.7009 - val_binary_accuracy: 0.8774 - val_loss: 0.2560 - val_recall_2: 0.7213\n",
      "Epoch 16/20\n",
      "\u001b[1m175/175\u001b[0m \u001b[32m━━━━━━━━━━━━━━━━━━━━\u001b[0m\u001b[37m\u001b[0m \u001b[1m1s\u001b[0m 3ms/step - binary_accuracy: 0.8768 - loss: 0.2616 - recall_2: 0.6993 - val_binary_accuracy: 0.8784 - val_loss: 0.2537 - val_recall_2: 0.7207\n",
      "Epoch 17/20\n",
      "\u001b[1m175/175\u001b[0m \u001b[32m━━━━━━━━━━━━━━━━━━━━\u001b[0m\u001b[37m\u001b[0m \u001b[1m1s\u001b[0m 3ms/step - binary_accuracy: 0.8781 - loss: 0.2597 - recall_2: 0.7014 - val_binary_accuracy: 0.8788 - val_loss: 0.2517 - val_recall_2: 0.7253\n",
      "Epoch 18/20\n",
      "\u001b[1m175/175\u001b[0m \u001b[32m━━━━━━━━━━━━━━━━━━━━\u001b[0m\u001b[37m\u001b[0m \u001b[1m1s\u001b[0m 3ms/step - binary_accuracy: 0.8758 - loss: 0.2579 - recall_2: 0.6985 - val_binary_accuracy: 0.8795 - val_loss: 0.2498 - val_recall_2: 0.7225\n",
      "Epoch 19/20\n",
      "\u001b[1m175/175\u001b[0m \u001b[32m━━━━━━━━━━━━━━━━━━━━\u001b[0m\u001b[37m\u001b[0m \u001b[1m1s\u001b[0m 3ms/step - binary_accuracy: 0.8797 - loss: 0.2532 - recall_2: 0.7064 - val_binary_accuracy: 0.8797 - val_loss: 0.2480 - val_recall_2: 0.7263\n",
      "Epoch 20/20\n",
      "\u001b[1m175/175\u001b[0m \u001b[32m━━━━━━━━━━━━━━━━━━━━\u001b[0m\u001b[37m\u001b[0m \u001b[1m1s\u001b[0m 3ms/step - binary_accuracy: 0.8805 - loss: 0.2509 - recall_2: 0.7056 - val_binary_accuracy: 0.8804 - val_loss: 0.2464 - val_recall_2: 0.7297\n"
     ]
    }
   ],
   "source": [
    "# 7. Entrenamiento\n",
    "# ----------------\n",
    "historial = red_mercado.fit(\n",
    "    X_train, y_train,\n",
    "    batch_size=128,\n",
    "    epochs=20,\n",
    "    validation_split=0.2,\n",
    "    verbose=1\n",
    ")\n",
    "\n"
   ]
  },
  {
   "cell_type": "code",
   "execution_count": 14,
   "id": "b85a3e38",
   "metadata": {},
   "outputs": [
    {
     "name": "stdout",
     "output_type": "stream",
     "text": [
      "\u001b[1m219/219\u001b[0m \u001b[32m━━━━━━━━━━━━━━━━━━━━\u001b[0m\u001b[37m\u001b[0m \u001b[1m0s\u001b[0m 1ms/step\n",
      "Accuracy (macro): 0.7671\n",
      "Precision (macro): 0.8623\n",
      "Recall (macro): 0.7724\n",
      "ROC AUC (macro): 0.9315\n",
      "\n",
      "Classification Report:\n",
      "               precision    recall  f1-score   support\n",
      "\n",
      "subida_brusca       0.78      0.65      0.71      2833\n",
      "      escasez       0.94      0.89      0.92      1164\n",
      "\n",
      "    micro avg       0.83      0.72      0.77      3997\n",
      "    macro avg       0.86      0.77      0.81      3997\n",
      " weighted avg       0.83      0.72      0.77      3997\n",
      "  samples avg       0.26      0.26      0.26      3997\n",
      "\n",
      "Matriz de confusión — subida brusca:\n",
      "[[3647  520]\n",
      " [ 990 1843]]\n",
      "\n",
      "Matriz de confusión — escasez:\n",
      "[[5775   61]\n",
      " [ 123 1041]]\n"
     ]
    },
    {
     "name": "stderr",
     "output_type": "stream",
     "text": [
      "/home/miguel/miniconda3/envs/BAP3/lib/python3.9/site-packages/sklearn/metrics/_classification.py:1509: UndefinedMetricWarning: Precision is ill-defined and being set to 0.0 in samples with no predicted labels. Use `zero_division` parameter to control this behavior.\n",
      "  _warn_prf(average, modifier, f\"{metric.capitalize()} is\", len(result))\n",
      "/home/miguel/miniconda3/envs/BAP3/lib/python3.9/site-packages/sklearn/metrics/_classification.py:1509: UndefinedMetricWarning: Recall is ill-defined and being set to 0.0 in samples with no true labels. Use `zero_division` parameter to control this behavior.\n",
      "  _warn_prf(average, modifier, f\"{metric.capitalize()} is\", len(result))\n",
      "/home/miguel/miniconda3/envs/BAP3/lib/python3.9/site-packages/sklearn/metrics/_classification.py:1509: UndefinedMetricWarning: F-score is ill-defined and being set to 0.0 in samples with no true nor predicted labels. Use `zero_division` parameter to control this behavior.\n",
      "  _warn_prf(average, modifier, f\"{metric.capitalize()} is\", len(result))\n"
     ]
    }
   ],
   "source": [
    "# 8. Evaluación en conjunto de prueba\n",
    "# -----------------------------------\n",
    "y_pred_prob = red_mercado.predict(X_test)\n",
    "# Probabilidades a etiquetas 0/1 con umbral 0.5\n",
    "y_pred = (y_pred_prob >= 0.5).astype(bool)\n",
    "\n",
    "# Métricas globales (promedio macro)\n",
    "accuracy = accuracy_score(y_test, y_pred)\n",
    "precision = precision_score(y_test, y_pred, average='macro', zero_division=0)\n",
    "recall = recall_score(y_test, y_pred, average='macro', zero_division=0)\n",
    "roc_auc = roc_auc_score(y_test, y_pred_prob, average='macro')\n",
    "\n",
    "print(f\"Accuracy (macro): {accuracy:.4f}\")\n",
    "print(f\"Precision (macro): {precision:.4f}\")\n",
    "print(f\"Recall (macro): {recall:.4f}\")\n",
    "print(f\"ROC AUC (macro): {roc_auc:.4f}\")\n",
    "\n",
    "# Reporte por clase\n",
    "print(\"\\nClassification Report:\")\n",
    "print(classification_report(y_test, y_pred, target_names=['subida_brusca', 'escasez']))\n",
    "\n",
    "# Matrices de confusión\n",
    "from sklearn.metrics import multilabel_confusion_matrix\n",
    "\n",
    "# y_test e y_pred tienen forma (n_muestras, 2)\n",
    "cms = multilabel_confusion_matrix(y_test, y_pred)\n",
    "\n",
    "# cms[0]  → matriz para la etiqueta “subida brusca”\n",
    "# cms[1]  → matriz para la etiqueta “escasez”\n",
    "\n",
    "print(\"Matriz de confusión — subida brusca:\")\n",
    "print(cms[0])\n",
    "print(\"\\nMatriz de confusión — escasez:\")\n",
    "print(cms[1])\n",
    "\n",
    "\n"
   ]
  },
  {
   "cell_type": "code",
   "execution_count": 16,
   "id": "ad226f25",
   "metadata": {},
   "outputs": [
    {
     "name": "stdout",
     "output_type": "stream",
     "text": [
      "\u001b[1m1/1\u001b[0m \u001b[32m━━━━━━━━━━━━━━━━━━━━\u001b[0m\u001b[37m\u001b[0m \u001b[1m0s\u001b[0m 32ms/step\n",
      "\n",
      "Predicciones de ejemplo:\n",
      " demanda_preajuste  volatilidad_precio  prob_subida_brusca  prob_escasez  pred_subida_brusca  pred_escasez\n",
      "            2427.0             1.34536            0.709754      0.117751                True         False\n",
      "            2487.0             1.46544            0.391306      0.017777               False         False\n",
      "            2519.0             1.53623            0.450881      0.019967               False         False\n",
      "            2528.0             1.56445            0.303861      0.011350               False         False\n",
      "            2617.0             1.63936            0.426541      0.017595               False         False\n",
      "            2688.0             1.82962            0.710804      0.086285                True         False\n",
      "            2676.0             2.00250            0.684864      0.053734                True         False\n",
      "            2693.0             2.01184            0.180336      0.003504               False         False\n",
      "            2852.0             1.97231            0.209888      0.003449               False         False\n",
      "            2861.0             2.04634            0.809615      0.128216                True         False\n"
     ]
    }
   ],
   "source": [
    "# 9. Lectura fácil de predicciones nuevas\n",
    "# ---------------------------------------\n",
    "# Tomamos 10 muestras de ejemplo para ver probabilidades y clases\n",
    "muestra = datos.iloc[1510:1520]\n",
    "prob_muestra = red_mercado.predict(muestra.loc[:, 'demanda_preajuste':'volatilidad_precio'])\n",
    "pred_muestra = (prob_muestra >= 0.5).astype(bool)\n",
    "\n",
    "# Construimos DataFrame con los resultados\n",
    "df_pred = pd.DataFrame({\n",
    "    'demanda_preajuste': muestra.demanda_preajuste,\n",
    "    'volatilidad_precio': muestra.volatilidad_precio,\n",
    "    'prob_subida_brusca': prob_muestra[:, 0],\n",
    "    'prob_escasez': prob_muestra[:, 1],\n",
    "    'pred_subida_brusca': pred_muestra[:, 0],\n",
    "    'pred_escasez': pred_muestra[:, 1]\n",
    "})\n",
    "\n",
    "print(\"\\nPredicciones de ejemplo:\")\n",
    "print(df_pred.to_string(index=False))\n"
   ]
  }
 ],
 "metadata": {
  "kernelspec": {
   "display_name": "BAP3",
   "language": "python",
   "name": "python3"
  },
  "language_info": {
   "codemirror_mode": {
    "name": "ipython",
    "version": 3
   },
   "file_extension": ".py",
   "mimetype": "text/x-python",
   "name": "python",
   "nbconvert_exporter": "python",
   "pygments_lexer": "ipython3",
   "version": "3.9.23"
  }
 },
 "nbformat": 4,
 "nbformat_minor": 5
}
