{
 "cells": [
  {
   "cell_type": "code",
   "execution_count": 1,
   "id": "c1b902c8",
   "metadata": {},
   "outputs": [
    {
     "name": "stderr",
     "output_type": "stream",
     "text": [
      "2025-06-09 15:23:56.506217: I tensorflow/core/platform/cpu_feature_guard.cc:210] This TensorFlow binary is optimized to use available CPU instructions in performance-critical operations.\n",
      "To enable the following instructions: SSE4.1 SSE4.2 AVX AVX2 FMA, in other operations, rebuild TensorFlow with the appropriate compiler flags.\n"
     ]
    }
   ],
   "source": [
    "# -*- coding: utf-8 -*-\n",
    "\"\"\"\n",
    "red_mercado.py\n",
    "\n",
    "Esta red neuronal predice dos eventos en un mercado simulado:\n",
    "1. subida_brusca_precio  (subida abrupta de precios)\n",
    "2. escasez\n",
    "\n",
    "Se ha mejorado la legibilidad de las predicciones y se añaden métricas de desempeño.\n",
    "\"\"\"\n",
    "\n",
    "import pandas as pd\n",
    "import numpy as np\n",
    "from sklearn.model_selection import train_test_split\n",
    "from sklearn.metrics import (\n",
    "    confusion_matrix,\n",
    "    classification_report,\n",
    "    roc_auc_score,\n",
    "    accuracy_score,\n",
    "    precision_score,\n",
    "    recall_score\n",
    ")\n",
    "from keras import Sequential, Input\n",
    "from keras.layers import Dense, Dropout, Normalization\n",
    "from keras.metrics import Recall, Precision\n",
    "import random\n",
    "from keras.callbacks import EarlyStopping\n",
    "import tensorflow as tf\n",
    "\n",
    "\n",
    "\n"
   ]
  },
  {
   "cell_type": "code",
   "execution_count": 2,
   "id": "989d70c3",
   "metadata": {},
   "outputs": [],
   "source": [
    "# 1. Carga de datos\n",
    "# ----------------\n",
    "datos = pd.read_csv(\"simulacionEconomica.csv\")\n"
   ]
  },
  {
   "cell_type": "code",
   "execution_count": 3,
   "id": "c6cdf20e",
   "metadata": {},
   "outputs": [],
   "source": [
    "# 2. Separar atributos y objetivo\n",
    "# --------------------------------\n",
    "atributos = datos.loc[:, 'demanda_preajuste':'volatilidad_precio']\n",
    "objetivo = datos.loc[:, 'subida_brusca_precio':'escasez']\n",
    "\n"
   ]
  },
  {
   "cell_type": "code",
   "execution_count": 4,
   "id": "8e9c9794",
   "metadata": {},
   "outputs": [],
   "source": [
    "# 3. Dividir en entrenamiento y prueba\n",
    "# ------------------------------------\n",
    "X_train, X_test, y_train, y_test = train_test_split(\n",
    "    atributos, objetivo,\n",
    "    test_size=0.2,\n",
    "    random_state=42\n",
    ")\n",
    "\n"
   ]
  },
  {
   "cell_type": "code",
   "execution_count": 5,
   "id": "c4473636",
   "metadata": {},
   "outputs": [
    {
     "data": {
      "text/plain": [
       "array([0.99999344, 1.000012  , 1.0000024 , 1.0000124 , 0.99998164],\n",
       "      dtype=float32)"
      ]
     },
     "execution_count": 5,
     "metadata": {},
     "output_type": "execute_result"
    }
   ],
   "source": [
    "# 4. Normalización\n",
    "# ----------------\n",
    "normalizador = Normalization()\n",
    "normalizador.adapt(X_train.to_numpy())\n",
    "np.mean(normalizador(X_train), axis=0)\n",
    "np.var(normalizador(X_train), axis=0)"
   ]
  },
  {
   "cell_type": "code",
   "execution_count": null,
   "id": "496940db",
   "metadata": {},
   "outputs": [
    {
     "name": "stdout",
     "output_type": "stream",
     "text": [
      "\n",
      ">>> Iteración 1: {'n_hidden': 64, 'dropout': 0.3, 'learning_rate': 0.001}\n"
     ]
    },
    {
     "name": "stderr",
     "output_type": "stream",
     "text": [
      "/home/miguel/miniconda3/envs/BAP3/lib/python3.9/site-packages/keras/src/callbacks/early_stopping.py:153: UserWarning: Early stopping conditioned on metric `val_precision` which is not available. Available metrics are: binary_accuracy,loss,precision_13,val_binary_accuracy,val_loss,val_precision_13\n",
      "  current = self.get_monitor_value(logs)\n"
     ]
    },
    {
     "name": "stdout",
     "output_type": "stream",
     "text": [
      "Precision en val: 0.8772\n",
      "\n",
      ">>> Iteración 2: {'n_hidden': 64, 'dropout': 0.1, 'learning_rate': 0.0001}\n"
     ]
    },
    {
     "name": "stderr",
     "output_type": "stream",
     "text": [
      "/home/miguel/miniconda3/envs/BAP3/lib/python3.9/site-packages/keras/src/callbacks/early_stopping.py:153: UserWarning: Early stopping conditioned on metric `val_precision` which is not available. Available metrics are: binary_accuracy,loss,precision_14,val_binary_accuracy,val_loss,val_precision_14\n",
      "  current = self.get_monitor_value(logs)\n"
     ]
    },
    {
     "name": "stdout",
     "output_type": "stream",
     "text": [
      "Precision en val: 0.8832\n",
      "\n",
      ">>> Iteración 3: {'n_hidden': 64, 'dropout': 0.3, 'learning_rate': 0.0001}\n"
     ]
    },
    {
     "name": "stderr",
     "output_type": "stream",
     "text": [
      "/home/miguel/miniconda3/envs/BAP3/lib/python3.9/site-packages/keras/src/callbacks/early_stopping.py:153: UserWarning: Early stopping conditioned on metric `val_precision` which is not available. Available metrics are: binary_accuracy,loss,precision_15,val_binary_accuracy,val_loss,val_precision_15\n",
      "  current = self.get_monitor_value(logs)\n"
     ]
    },
    {
     "name": "stdout",
     "output_type": "stream",
     "text": [
      "Precision en val: 0.9007\n",
      "\n",
      ">>> Iteración 4: {'n_hidden': 64, 'dropout': 0.1, 'learning_rate': 0.001}\n"
     ]
    },
    {
     "name": "stderr",
     "output_type": "stream",
     "text": [
      "/home/miguel/miniconda3/envs/BAP3/lib/python3.9/site-packages/keras/src/callbacks/early_stopping.py:153: UserWarning: Early stopping conditioned on metric `val_precision` which is not available. Available metrics are: binary_accuracy,loss,precision_16,val_binary_accuracy,val_loss,val_precision_16\n",
      "  current = self.get_monitor_value(logs)\n"
     ]
    },
    {
     "name": "stdout",
     "output_type": "stream",
     "text": [
      "Precision en val: 0.8608\n",
      "\n",
      ">>> Iteración 5: {'n_hidden': 96, 'dropout': 0.3, 'learning_rate': 0.001}\n"
     ]
    },
    {
     "name": "stderr",
     "output_type": "stream",
     "text": [
      "/home/miguel/miniconda3/envs/BAP3/lib/python3.9/site-packages/keras/src/callbacks/early_stopping.py:153: UserWarning: Early stopping conditioned on metric `val_precision` which is not available. Available metrics are: binary_accuracy,loss,precision_17,val_binary_accuracy,val_loss,val_precision_17\n",
      "  current = self.get_monitor_value(logs)\n"
     ]
    },
    {
     "name": "stdout",
     "output_type": "stream",
     "text": [
      "Precision en val: 0.8499\n",
      "\n",
      ">>> Iteración 6: {'n_hidden': 96, 'dropout': 0.3, 'learning_rate': 0.01}\n"
     ]
    },
    {
     "name": "stderr",
     "output_type": "stream",
     "text": [
      "/home/miguel/miniconda3/envs/BAP3/lib/python3.9/site-packages/keras/src/callbacks/early_stopping.py:153: UserWarning: Early stopping conditioned on metric `val_precision` which is not available. Available metrics are: binary_accuracy,loss,precision_18,val_binary_accuracy,val_loss,val_precision_18\n",
      "  current = self.get_monitor_value(logs)\n"
     ]
    },
    {
     "name": "stdout",
     "output_type": "stream",
     "text": [
      "Precision en val: 0.8912\n",
      "\n",
      ">>> Iteración 7: {'n_hidden': 64, 'dropout': 0.3, 'learning_rate': 0.001}\n"
     ]
    },
    {
     "name": "stderr",
     "output_type": "stream",
     "text": [
      "/home/miguel/miniconda3/envs/BAP3/lib/python3.9/site-packages/keras/src/callbacks/early_stopping.py:153: UserWarning: Early stopping conditioned on metric `val_precision` which is not available. Available metrics are: binary_accuracy,loss,precision_19,val_binary_accuracy,val_loss,val_precision_19\n",
      "  current = self.get_monitor_value(logs)\n"
     ]
    },
    {
     "name": "stdout",
     "output_type": "stream",
     "text": [
      "Precision en val: 0.8862\n",
      "\n",
      ">>> Iteración 8: {'n_hidden': 64, 'dropout': 0.3, 'learning_rate': 0.001}\n"
     ]
    },
    {
     "name": "stderr",
     "output_type": "stream",
     "text": [
      "/home/miguel/miniconda3/envs/BAP3/lib/python3.9/site-packages/keras/src/callbacks/early_stopping.py:153: UserWarning: Early stopping conditioned on metric `val_precision` which is not available. Available metrics are: binary_accuracy,loss,precision_20,val_binary_accuracy,val_loss,val_precision_20\n",
      "  current = self.get_monitor_value(logs)\n"
     ]
    },
    {
     "name": "stdout",
     "output_type": "stream",
     "text": [
      "Precision en val: 0.8797\n",
      "\n",
      ">>> Iteración 9: {'n_hidden': 32, 'dropout': 0.1, 'learning_rate': 0.001}\n"
     ]
    },
    {
     "name": "stderr",
     "output_type": "stream",
     "text": [
      "/home/miguel/miniconda3/envs/BAP3/lib/python3.9/site-packages/keras/src/callbacks/early_stopping.py:153: UserWarning: Early stopping conditioned on metric `val_precision` which is not available. Available metrics are: binary_accuracy,loss,precision_21,val_binary_accuracy,val_loss,val_precision_21\n",
      "  current = self.get_monitor_value(logs)\n"
     ]
    },
    {
     "name": "stdout",
     "output_type": "stream",
     "text": [
      "Precision en val: 0.8654\n",
      "\n",
      ">>> Iteración 10: {'n_hidden': 32, 'dropout': 0.3, 'learning_rate': 0.01}\n"
     ]
    },
    {
     "name": "stderr",
     "output_type": "stream",
     "text": [
      "/home/miguel/miniconda3/envs/BAP3/lib/python3.9/site-packages/keras/src/callbacks/early_stopping.py:153: UserWarning: Early stopping conditioned on metric `val_precision` which is not available. Available metrics are: binary_accuracy,loss,precision_22,val_binary_accuracy,val_loss,val_precision_22\n",
      "  current = self.get_monitor_value(logs)\n"
     ]
    },
    {
     "name": "stdout",
     "output_type": "stream",
     "text": [
      "Precision en val: 0.8594\n",
      "\n",
      "=== Mejores parámetros encontrados ===\n",
      "{'n_hidden': 64, 'dropout': 0.3, 'learning_rate': 0.0001} → Precision: 0.9007114171981812\n"
     ]
    }
   ],
   "source": [
    "# 2. Espacio de búsqueda \n",
    "\"\"\"\n",
    "Esto es la busqueda aleatoria, tarda unos minutos.\n",
    " Luego, hemos entrenado la red con lo que fue el mejor parametro que nos dio.\n",
    "\"\"\"\n",
    "param_space = {\n",
    "    'n_hidden':   [32, 64, 96],\n",
    "    'dropout':    [0.1, 0.2, 0.3],\n",
    "    'learning_rate': [1e-2, 1e-3, 1e-4]\n",
    "}\n",
    "\n",
    "def build_model(n_hidden, dropout_rate, lr):\n",
    "    m = Sequential([\n",
    "        Input(shape=(5,)),\n",
    "        normalizador,\n",
    "        Dense(n_hidden, activation='relu'),\n",
    "        Dropout(dropout_rate),\n",
    "        Dense(n_hidden//2, activation='relu'),\n",
    "        Dense(2, activation='sigmoid')\n",
    "    ])\n",
    "    m.compile(\n",
    "        optimizer=tf.keras.optimizers.Adam(learning_rate=lr),\n",
    "        loss='binary_crossentropy',\n",
    "        metrics=['binary_accuracy', Precision()]\n",
    "    )\n",
    "    return m\n",
    "\n",
    "early_stop = EarlyStopping(\n",
    "    monitor='val_precision',    # la métrica de validación que queremos maximizar\n",
    "    mode='max',                 # le decimos que debe buscar el valor máximo\n",
    "    patience=3,\n",
    "    restore_best_weights=True\n",
    ")\n",
    "\n",
    "# 4. Bucle de búsqueda aleatoria\n",
    "best_score = 0.0\n",
    "best_params = None\n",
    "for i in range(10):   \n",
    "    # muestreo aleatorio\n",
    "    hp = { k: random.choice(v) for k,v in param_space.items() }\n",
    "    print(f\"\\n>>> Iteración {i+1}: {hp}\")\n",
    "    \n",
    "    # crear y entrenar\n",
    "    model = build_model(hp['n_hidden'], hp['dropout'], hp['learning_rate'])\n",
    "    hist = model.fit(\n",
    "        X_train, y_train,\n",
    "        validation_data=(X_test, y_test),\n",
    "        epochs=30,\n",
    "        batch_size=64,\n",
    "        callbacks=[early_stop],\n",
    "        verbose=0\n",
    "    )\n",
    "    \n",
    "    val_metrics = model.evaluate(X_test, y_test, verbose=0)\n",
    "\n",
    "    val_precision = val_metrics[2]\n",
    "    print(f\"Precision en val: {val_precision:.4f}\")\n",
    "    \n",
    "    if val_precision > best_score:\n",
    "        best_score = val_precision\n",
    "        best_params = hp\n",
    "\n",
    "print(\"\\n=== Mejores parámetros encontrados ===\")\n",
    "print(best_params, \"→ Precision:\", best_score)"
   ]
  },
  {
   "cell_type": "code",
   "execution_count": 6,
   "id": "30097cc4",
   "metadata": {},
   "outputs": [],
   "source": [
    "# 5. Definición de la red\n",
    "# -----------------------\n",
    "# obtuvimos esto => {'n_hidden': 64, 'dropout': 0.3, 'learning_rate': 0.0001} → Precision: 0.9007114171981812\n",
    "red_mercado = Sequential([\n",
    "    Input(shape=(5,)),         # 5 variables de entrada\n",
    "    normalizador,              # normaliza cada batch\n",
    "    Dense(64, activation='relu'),  # capa oculta amplia\n",
    "    Dropout(0.3),                  # evita sobreajuste\n",
    "    Dense(32, activation='relu'),  # capa oculta más pequeña\n",
    "    Dense(2, activation='sigmoid') # 2 salidas binarias\n",
    "])\n",
    "\n"
   ]
  },
  {
   "cell_type": "code",
   "execution_count": 7,
   "id": "c5373d48",
   "metadata": {},
   "outputs": [],
   "source": [
    "# 6. Compilación\n",
    "# --------------\n",
    "red_mercado.compile(\n",
    "    optimizer=tf.keras.optimizers.Adam(learning_rate=0.0001),\n",
    "    loss='binary_crossentropy',\n",
    "    metrics=['binary_accuracy', Precision()]\n",
    ")\n",
    "\n"
   ]
  },
  {
   "cell_type": "code",
   "execution_count": 8,
   "id": "6560d4e2",
   "metadata": {},
   "outputs": [
    {
     "name": "stdout",
     "output_type": "stream",
     "text": [
      "Epoch 1/30\n",
      "\u001b[1m175/175\u001b[0m \u001b[32m━━━━━━━━━━━━━━━━━━━━\u001b[0m\u001b[37m\u001b[0m \u001b[1m2s\u001b[0m 5ms/step - binary_accuracy: 0.7612 - loss: 0.6393 - precision: 0.6516 - val_binary_accuracy: 0.8342 - val_loss: 0.5514 - val_precision: 0.8308\n",
      "Epoch 2/30\n",
      "\u001b[1m175/175\u001b[0m \u001b[32m━━━━━━━━━━━━━━━━━━━━\u001b[0m\u001b[37m\u001b[0m \u001b[1m1s\u001b[0m 3ms/step - binary_accuracy: 0.8288 - loss: 0.5279 - precision: 0.8509 - val_binary_accuracy: 0.8509 - val_loss: 0.4425 - val_precision: 0.8435\n",
      "Epoch 3/30\n",
      "\u001b[1m175/175\u001b[0m \u001b[32m━━━━━━━━━━━━━━━━━━━━\u001b[0m\u001b[37m\u001b[0m \u001b[1m1s\u001b[0m 4ms/step - binary_accuracy: 0.8488 - loss: 0.4274 - precision: 0.8406 - val_binary_accuracy: 0.8746 - val_loss: 0.3637 - val_precision: 0.8543\n",
      "Epoch 4/30\n",
      "\u001b[1m175/175\u001b[0m \u001b[32m━━━━━━━━━━━━━━━━━━━━\u001b[0m\u001b[37m\u001b[0m \u001b[1m1s\u001b[0m 4ms/step - binary_accuracy: 0.8681 - loss: 0.3598 - precision: 0.8572 - val_binary_accuracy: 0.8776 - val_loss: 0.3194 - val_precision: 0.8521\n",
      "Epoch 5/30\n",
      "\u001b[1m175/175\u001b[0m \u001b[32m━━━━━━━━━━━━━━━━━━━━\u001b[0m\u001b[37m\u001b[0m \u001b[1m1s\u001b[0m 4ms/step - binary_accuracy: 0.8740 - loss: 0.3201 - precision: 0.8525 - val_binary_accuracy: 0.8794 - val_loss: 0.2942 - val_precision: 0.8483\n",
      "Epoch 6/30\n",
      "\u001b[1m175/175\u001b[0m \u001b[32m━━━━━━━━━━━━━━━━━━━━\u001b[0m\u001b[37m\u001b[0m \u001b[1m1s\u001b[0m 3ms/step - binary_accuracy: 0.8785 - loss: 0.2948 - precision: 0.8505 - val_binary_accuracy: 0.8785 - val_loss: 0.2788 - val_precision: 0.8391\n",
      "Epoch 7/30\n",
      "\u001b[1m175/175\u001b[0m \u001b[32m━━━━━━━━━━━━━━━━━━━━\u001b[0m\u001b[37m\u001b[0m \u001b[1m1s\u001b[0m 4ms/step - binary_accuracy: 0.8804 - loss: 0.2823 - precision: 0.8471 - val_binary_accuracy: 0.8775 - val_loss: 0.2681 - val_precision: 0.8360\n",
      "Epoch 8/30\n",
      "\u001b[1m175/175\u001b[0m \u001b[32m━━━━━━━━━━━━━━━━━━━━\u001b[0m\u001b[37m\u001b[0m \u001b[1m1s\u001b[0m 4ms/step - binary_accuracy: 0.8788 - loss: 0.2683 - precision: 0.8462 - val_binary_accuracy: 0.8771 - val_loss: 0.2600 - val_precision: 0.8360\n",
      "Epoch 9/30\n",
      "\u001b[1m175/175\u001b[0m \u001b[32m━━━━━━━━━━━━━━━━━━━━\u001b[0m\u001b[37m\u001b[0m \u001b[1m1s\u001b[0m 4ms/step - binary_accuracy: 0.8786 - loss: 0.2636 - precision: 0.8470 - val_binary_accuracy: 0.8788 - val_loss: 0.2535 - val_precision: 0.8400\n",
      "Epoch 10/30\n",
      "\u001b[1m175/175\u001b[0m \u001b[32m━━━━━━━━━━━━━━━━━━━━\u001b[0m\u001b[37m\u001b[0m \u001b[1m1s\u001b[0m 3ms/step - binary_accuracy: 0.8822 - loss: 0.2549 - precision: 0.8576 - val_binary_accuracy: 0.8793 - val_loss: 0.2483 - val_precision: 0.8446\n",
      "Epoch 11/30\n",
      "\u001b[1m175/175\u001b[0m \u001b[32m━━━━━━━━━━━━━━━━━━━━\u001b[0m\u001b[37m\u001b[0m \u001b[1m1s\u001b[0m 3ms/step - binary_accuracy: 0.8783 - loss: 0.2567 - precision: 0.8516 - val_binary_accuracy: 0.8797 - val_loss: 0.2441 - val_precision: 0.8407\n",
      "Epoch 12/30\n",
      "\u001b[1m175/175\u001b[0m \u001b[32m━━━━━━━━━━━━━━━━━━━━\u001b[0m\u001b[37m\u001b[0m \u001b[1m1s\u001b[0m 3ms/step - binary_accuracy: 0.8797 - loss: 0.2537 - precision: 0.8478 - val_binary_accuracy: 0.8804 - val_loss: 0.2407 - val_precision: 0.8382\n",
      "Epoch 13/30\n",
      "\u001b[1m175/175\u001b[0m \u001b[32m━━━━━━━━━━━━━━━━━━━━\u001b[0m\u001b[37m\u001b[0m \u001b[1m1s\u001b[0m 3ms/step - binary_accuracy: 0.8840 - loss: 0.2430 - precision: 0.8555 - val_binary_accuracy: 0.8813 - val_loss: 0.2378 - val_precision: 0.8392\n",
      "Epoch 14/30\n",
      "\u001b[1m175/175\u001b[0m \u001b[32m━━━━━━━━━━━━━━━━━━━━\u001b[0m\u001b[37m\u001b[0m \u001b[1m1s\u001b[0m 3ms/step - binary_accuracy: 0.8807 - loss: 0.2481 - precision: 0.8522 - val_binary_accuracy: 0.8821 - val_loss: 0.2349 - val_precision: 0.8454\n",
      "Epoch 15/30\n",
      "\u001b[1m175/175\u001b[0m \u001b[32m━━━━━━━━━━━━━━━━━━━━\u001b[0m\u001b[37m\u001b[0m \u001b[1m1s\u001b[0m 3ms/step - binary_accuracy: 0.8833 - loss: 0.2419 - precision: 0.8505 - val_binary_accuracy: 0.8833 - val_loss: 0.2325 - val_precision: 0.8444\n",
      "Epoch 16/30\n",
      "\u001b[1m175/175\u001b[0m \u001b[32m━━━━━━━━━━━━━━━━━━━━\u001b[0m\u001b[37m\u001b[0m \u001b[1m1s\u001b[0m 4ms/step - binary_accuracy: 0.8828 - loss: 0.2411 - precision: 0.8567 - val_binary_accuracy: 0.8850 - val_loss: 0.2302 - val_precision: 0.8538\n",
      "Epoch 17/30\n",
      "\u001b[1m175/175\u001b[0m \u001b[32m━━━━━━━━━━━━━━━━━━━━\u001b[0m\u001b[37m\u001b[0m \u001b[1m1s\u001b[0m 4ms/step - binary_accuracy: 0.8835 - loss: 0.2372 - precision: 0.8555 - val_binary_accuracy: 0.8850 - val_loss: 0.2287 - val_precision: 0.8452\n",
      "Epoch 18/30\n",
      "\u001b[1m175/175\u001b[0m \u001b[32m━━━━━━━━━━━━━━━━━━━━\u001b[0m\u001b[37m\u001b[0m \u001b[1m1s\u001b[0m 5ms/step - binary_accuracy: 0.8825 - loss: 0.2401 - precision: 0.8544 - val_binary_accuracy: 0.8867 - val_loss: 0.2269 - val_precision: 0.8568\n",
      "Epoch 19/30\n",
      "\u001b[1m175/175\u001b[0m \u001b[32m━━━━━━━━━━━━━━━━━━━━\u001b[0m\u001b[37m\u001b[0m \u001b[1m1s\u001b[0m 4ms/step - binary_accuracy: 0.8845 - loss: 0.2363 - precision: 0.8599 - val_binary_accuracy: 0.8871 - val_loss: 0.2252 - val_precision: 0.8487\n",
      "Epoch 20/30\n",
      "\u001b[1m175/175\u001b[0m \u001b[32m━━━━━━━━━━━━━━━━━━━━\u001b[0m\u001b[37m\u001b[0m \u001b[1m1s\u001b[0m 5ms/step - binary_accuracy: 0.8861 - loss: 0.2352 - precision: 0.8639 - val_binary_accuracy: 0.8883 - val_loss: 0.2236 - val_precision: 0.8547\n",
      "Epoch 21/30\n",
      "\u001b[1m175/175\u001b[0m \u001b[32m━━━━━━━━━━━━━━━━━━━━\u001b[0m\u001b[37m\u001b[0m \u001b[1m1s\u001b[0m 5ms/step - binary_accuracy: 0.8875 - loss: 0.2315 - precision: 0.8667 - val_binary_accuracy: 0.8897 - val_loss: 0.2218 - val_precision: 0.8614\n",
      "Epoch 22/30\n",
      "\u001b[1m175/175\u001b[0m \u001b[32m━━━━━━━━━━━━━━━━━━━━\u001b[0m\u001b[37m\u001b[0m \u001b[1m1s\u001b[0m 5ms/step - binary_accuracy: 0.8870 - loss: 0.2294 - precision: 0.8665 - val_binary_accuracy: 0.8901 - val_loss: 0.2207 - val_precision: 0.8624\n",
      "Epoch 23/30\n",
      "\u001b[1m175/175\u001b[0m \u001b[32m━━━━━━━━━━━━━━━━━━━━\u001b[0m\u001b[37m\u001b[0m \u001b[1m1s\u001b[0m 3ms/step - binary_accuracy: 0.8901 - loss: 0.2265 - precision: 0.8698 - val_binary_accuracy: 0.8905 - val_loss: 0.2197 - val_precision: 0.8547\n",
      "Epoch 24/30\n",
      "\u001b[1m175/175\u001b[0m \u001b[32m━━━━━━━━━━━━━━━━━━━━\u001b[0m\u001b[37m\u001b[0m \u001b[1m1s\u001b[0m 4ms/step - binary_accuracy: 0.8896 - loss: 0.2264 - precision: 0.8664 - val_binary_accuracy: 0.8918 - val_loss: 0.2181 - val_precision: 0.8687\n",
      "Epoch 25/30\n",
      "\u001b[1m175/175\u001b[0m \u001b[32m━━━━━━━━━━━━━━━━━━━━\u001b[0m\u001b[37m\u001b[0m \u001b[1m1s\u001b[0m 4ms/step - binary_accuracy: 0.8914 - loss: 0.2242 - precision: 0.8714 - val_binary_accuracy: 0.8913 - val_loss: 0.2176 - val_precision: 0.8579\n",
      "Epoch 26/30\n",
      "\u001b[1m175/175\u001b[0m \u001b[32m━━━━━━━━━━━━━━━━━━━━\u001b[0m\u001b[37m\u001b[0m \u001b[1m1s\u001b[0m 4ms/step - binary_accuracy: 0.8933 - loss: 0.2232 - precision: 0.8730 - val_binary_accuracy: 0.8922 - val_loss: 0.2165 - val_precision: 0.8652\n",
      "Epoch 27/30\n",
      "\u001b[1m175/175\u001b[0m \u001b[32m━━━━━━━━━━━━━━━━━━━━\u001b[0m\u001b[37m\u001b[0m \u001b[1m1s\u001b[0m 4ms/step - binary_accuracy: 0.8909 - loss: 0.2240 - precision: 0.8713 - val_binary_accuracy: 0.8929 - val_loss: 0.2155 - val_precision: 0.8682\n",
      "Epoch 28/30\n",
      "\u001b[1m175/175\u001b[0m \u001b[32m━━━━━━━━━━━━━━━━━━━━\u001b[0m\u001b[37m\u001b[0m \u001b[1m1s\u001b[0m 7ms/step - binary_accuracy: 0.8916 - loss: 0.2242 - precision: 0.8710 - val_binary_accuracy: 0.8941 - val_loss: 0.2146 - val_precision: 0.8748\n",
      "Epoch 29/30\n",
      "\u001b[1m175/175\u001b[0m \u001b[32m━━━━━━━━━━━━━━━━━━━━\u001b[0m\u001b[37m\u001b[0m \u001b[1m1s\u001b[0m 6ms/step - binary_accuracy: 0.8947 - loss: 0.2200 - precision: 0.8809 - val_binary_accuracy: 0.8938 - val_loss: 0.2140 - val_precision: 0.8716\n",
      "Epoch 30/30\n",
      "\u001b[1m175/175\u001b[0m \u001b[32m━━━━━━━━━━━━━━━━━━━━\u001b[0m\u001b[37m\u001b[0m \u001b[1m1s\u001b[0m 5ms/step - binary_accuracy: 0.8918 - loss: 0.2217 - precision: 0.8739 - val_binary_accuracy: 0.8950 - val_loss: 0.2132 - val_precision: 0.8728\n"
     ]
    }
   ],
   "source": [
    "# 7. Entrenamiento\n",
    "# ----------------\n",
    "historial = red_mercado.fit(\n",
    "    X_train, y_train,\n",
    "    batch_size=128,\n",
    "    epochs=30,\n",
    "    validation_split=0.2,\n",
    "    verbose=1\n",
    ")\n",
    "\n"
   ]
  },
  {
   "cell_type": "code",
   "execution_count": 9,
   "id": "b85a3e38",
   "metadata": {},
   "outputs": [
    {
     "name": "stdout",
     "output_type": "stream",
     "text": [
      "\u001b[1m219/219\u001b[0m \u001b[32m━━━━━━━━━━━━━━━━━━━━\u001b[0m\u001b[37m\u001b[0m \u001b[1m1s\u001b[0m 2ms/step\n",
      "Accuracy (macro): 0.7924\n",
      "Precision (macro): 0.8928\n",
      "Recall (macro): 0.8086\n",
      "ROC AUC (macro): 0.9369\n",
      "\n",
      "Classification Report:\n",
      "               precision    recall  f1-score   support\n",
      "\n",
      "subida_brusca       0.82      0.65      0.72      2833\n",
      "      escasez       0.96      0.97      0.97      1164\n",
      "\n",
      "    micro avg       0.87      0.74      0.80      3997\n",
      "    macro avg       0.89      0.81      0.85      3997\n",
      " weighted avg       0.86      0.74      0.79      3997\n",
      "  samples avg       0.27      0.27      0.27      3997\n",
      "\n",
      "Matriz de confusión — subida brusca:\n",
      "[[3767  400]\n",
      " [1002 1831]]\n",
      "\n",
      "Matriz de confusión — escasez:\n",
      "[[5795   41]\n",
      " [  34 1130]]\n"
     ]
    },
    {
     "name": "stderr",
     "output_type": "stream",
     "text": [
      "/home/miguel/miniconda3/envs/BAP3/lib/python3.9/site-packages/sklearn/metrics/_classification.py:1509: UndefinedMetricWarning: Precision is ill-defined and being set to 0.0 in samples with no predicted labels. Use `zero_division` parameter to control this behavior.\n",
      "  _warn_prf(average, modifier, f\"{metric.capitalize()} is\", len(result))\n",
      "/home/miguel/miniconda3/envs/BAP3/lib/python3.9/site-packages/sklearn/metrics/_classification.py:1509: UndefinedMetricWarning: Recall is ill-defined and being set to 0.0 in samples with no true labels. Use `zero_division` parameter to control this behavior.\n",
      "  _warn_prf(average, modifier, f\"{metric.capitalize()} is\", len(result))\n",
      "/home/miguel/miniconda3/envs/BAP3/lib/python3.9/site-packages/sklearn/metrics/_classification.py:1509: UndefinedMetricWarning: F-score is ill-defined and being set to 0.0 in samples with no true nor predicted labels. Use `zero_division` parameter to control this behavior.\n",
      "  _warn_prf(average, modifier, f\"{metric.capitalize()} is\", len(result))\n"
     ]
    }
   ],
   "source": [
    "# 8. Evaluación en conjunto de prueba\n",
    "# -----------------------------------\n",
    "y_pred_prob = red_mercado.predict(X_test)\n",
    "# Probabilidades a etiquetas 0/1 con umbral 0.5\n",
    "y_pred = (y_pred_prob >= 0.5).astype(bool)\n",
    "\n",
    "# Métricas globales (promedio macro)\n",
    "accuracy = accuracy_score(y_test, y_pred)\n",
    "precision = precision_score(y_test, y_pred, average='macro', zero_division=0)\n",
    "recall = recall_score(y_test, y_pred, average='macro', zero_division=0)\n",
    "roc_auc = roc_auc_score(y_test, y_pred_prob, average='macro')\n",
    "\n",
    "print(f\"Accuracy (macro): {accuracy:.4f}\")\n",
    "print(f\"Precision (macro): {precision:.4f}\")\n",
    "print(f\"Recall (macro): {recall:.4f}\")\n",
    "print(f\"ROC AUC (macro): {roc_auc:.4f}\")\n",
    "\n",
    "# Reporte por clase\n",
    "print(\"\\nClassification Report:\")\n",
    "print(classification_report(y_test, y_pred, target_names=['subida_brusca', 'escasez']))\n",
    "\n",
    "# Matrices de confusión\n",
    "from sklearn.metrics import multilabel_confusion_matrix\n",
    "\n",
    "# y_test e y_pred tienen forma (n_muestras, 2)\n",
    "cms = multilabel_confusion_matrix(y_test, y_pred)\n",
    "\n",
    "# cms[0]  → matriz para la etiqueta “subida brusca”\n",
    "# cms[1]  → matriz para la etiqueta “escasez”\n",
    "\n",
    "print(\"Matriz de confusión — subida brusca:\")\n",
    "print(cms[0])\n",
    "print(\"\\nMatriz de confusión — escasez:\")\n",
    "print(cms[1])\n",
    "\n",
    "\n"
   ]
  },
  {
   "cell_type": "code",
   "execution_count": 10,
   "id": "ad226f25",
   "metadata": {},
   "outputs": [
    {
     "name": "stdout",
     "output_type": "stream",
     "text": [
      "\u001b[1m1/1\u001b[0m \u001b[32m━━━━━━━━━━━━━━━━━━━━\u001b[0m\u001b[37m\u001b[0m \u001b[1m0s\u001b[0m 42ms/step\n",
      "\n",
      "Predicciones de ejemplo:\n",
      " demanda_preajuste  volatilidad_precio  prob_subida_brusca  prob_escasez  pred_subida_brusca  pred_escasez\n",
      "            2427.0             1.34536            0.671062      0.009368                True         False\n",
      "            2487.0             1.46544            0.451639      0.001092               False         False\n",
      "            2519.0             1.53623            0.447828      0.001001               False         False\n",
      "            2528.0             1.56445            0.358579      0.000265               False         False\n",
      "            2617.0             1.63936            0.499381      0.001413               False         False\n",
      "            2688.0             1.82962            0.717124      0.016006                True         False\n",
      "            2676.0             2.00250            0.601822      0.002260                True         False\n",
      "            2693.0             2.01184            0.163984      0.000011               False         False\n",
      "            2852.0             1.97231            0.254290      0.000042               False         False\n",
      "            2861.0             2.04634            0.808647      0.022077                True         False\n"
     ]
    }
   ],
   "source": [
    "# 9. Lectura fácil de predicciones nuevas\n",
    "# ---------------------------------------\n",
    "# Tomamos 10 muestras de ejemplo para ver probabilidades y clases\n",
    "muestra = datos.iloc[1510:1520]\n",
    "prob_muestra = red_mercado.predict(muestra.loc[:, 'demanda_preajuste':'volatilidad_precio'])\n",
    "pred_muestra = (prob_muestra >= 0.5).astype(bool)\n",
    "\n",
    "# Construimos DataFrame con los resultados\n",
    "df_pred = pd.DataFrame({\n",
    "    'demanda_preajuste': muestra.demanda_preajuste,\n",
    "    'volatilidad_precio': muestra.volatilidad_precio,\n",
    "    'prob_subida_brusca': prob_muestra[:, 0],\n",
    "    'prob_escasez': prob_muestra[:, 1],\n",
    "    'pred_subida_brusca': pred_muestra[:, 0],\n",
    "    'pred_escasez': pred_muestra[:, 1]\n",
    "})\n",
    "\n",
    "print(\"\\nPredicciones de ejemplo:\")\n",
    "print(df_pred.to_string(index=False))\n"
   ]
  },
  {
   "cell_type": "code",
   "execution_count": null,
   "id": "1208ad7d",
   "metadata": {},
   "outputs": [],
   "source": [
    "\n"
   ]
  }
 ],
 "metadata": {
  "kernelspec": {
   "display_name": "BAP3",
   "language": "python",
   "name": "python3"
  },
  "language_info": {
   "codemirror_mode": {
    "name": "ipython",
    "version": 3
   },
   "file_extension": ".py",
   "mimetype": "text/x-python",
   "name": "python",
   "nbconvert_exporter": "python",
   "pygments_lexer": "ipython3",
   "version": "3.9.23"
  }
 },
 "nbformat": 4,
 "nbformat_minor": 5
}
